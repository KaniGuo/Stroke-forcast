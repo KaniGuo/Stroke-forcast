{
 "cells": [
  {
   "cell_type": "markdown",
   "metadata": {},
   "source": [
    "# Data preparation"
   ]
  },
  {
   "cell_type": "markdown",
   "metadata": {},
   "source": [
    "## Load data"
   ]
  },
  {
   "cell_type": "markdown",
   "metadata": {},
   "source": [
    "***Welches sind die wichtigsten Indikatoren um einen Herzinfarkt vorherzusagen?***"
   ]
  },
  {
   "cell_type": "code",
   "execution_count": 5,
   "metadata": {},
   "outputs": [],
   "source": [
    "import numpy as np\n",
    "import pandas as pd\n",
    "import matplotlib.pyplot as plt\n"
   ]
  },
  {
   "cell_type": "code",
   "execution_count": 6,
   "metadata": {},
   "outputs": [],
   "source": [
    "import sys\n",
    "from pathlib import Path"
   ]
  },
  {
   "cell_type": "code",
   "execution_count": 7,
   "metadata": {},
   "outputs": [],
   "source": [
    "file_name = 'healthcare-dataset-stroke-data.csv'\n",
    "data_path = Path(sys.path[0]) / 'Data' / file_name"
   ]
  },
  {
   "cell_type": "markdown",
   "metadata": {},
   "source": [
    "**Get an idea with what we are dealing with**"
   ]
  },
  {
   "cell_type": "code",
   "execution_count": 8,
   "metadata": {},
   "outputs": [
    {
     "name": "stdout",
     "output_type": "stream",
     "text": [
      "The dataset contains 5110 records and has 12 features.\n"
     ]
    }
   ],
   "source": [
    "data = pd.read_csv('healthcare-dataset-stroke-data.csv')\n",
    "data.shape\n",
    "print('The dataset contains', data.shape[0], 'records and has', data.shape[1], 'features.', sep=' ')"
   ]
  },
  {
   "cell_type": "code",
   "execution_count": 9,
   "metadata": {},
   "outputs": [
    {
     "name": "stdout",
     "output_type": "stream",
     "text": [
      "Get an idea what in the dataset.\n"
     ]
    },
    {
     "data": {
      "text/html": [
       "<div>\n",
       "<style scoped>\n",
       "    .dataframe tbody tr th:only-of-type {\n",
       "        vertical-align: middle;\n",
       "    }\n",
       "\n",
       "    .dataframe tbody tr th {\n",
       "        vertical-align: top;\n",
       "    }\n",
       "\n",
       "    .dataframe thead th {\n",
       "        text-align: right;\n",
       "    }\n",
       "</style>\n",
       "<table border=\"1\" class=\"dataframe\">\n",
       "  <thead>\n",
       "    <tr style=\"text-align: right;\">\n",
       "      <th></th>\n",
       "      <th>id</th>\n",
       "      <th>gender</th>\n",
       "      <th>age</th>\n",
       "      <th>hypertension</th>\n",
       "      <th>heart_disease</th>\n",
       "      <th>ever_married</th>\n",
       "      <th>work_type</th>\n",
       "      <th>Residence_type</th>\n",
       "      <th>avg_glucose_level</th>\n",
       "      <th>bmi</th>\n",
       "      <th>smoking_status</th>\n",
       "      <th>stroke</th>\n",
       "    </tr>\n",
       "  </thead>\n",
       "  <tbody>\n",
       "    <tr>\n",
       "      <th>count</th>\n",
       "      <td>5110.000000</td>\n",
       "      <td>5110</td>\n",
       "      <td>5110.000000</td>\n",
       "      <td>5110.000000</td>\n",
       "      <td>5110.000000</td>\n",
       "      <td>5110</td>\n",
       "      <td>5110</td>\n",
       "      <td>5110</td>\n",
       "      <td>5110.000000</td>\n",
       "      <td>4909.000000</td>\n",
       "      <td>5110</td>\n",
       "      <td>5110.000000</td>\n",
       "    </tr>\n",
       "    <tr>\n",
       "      <th>unique</th>\n",
       "      <td>NaN</td>\n",
       "      <td>3</td>\n",
       "      <td>NaN</td>\n",
       "      <td>NaN</td>\n",
       "      <td>NaN</td>\n",
       "      <td>2</td>\n",
       "      <td>5</td>\n",
       "      <td>2</td>\n",
       "      <td>NaN</td>\n",
       "      <td>NaN</td>\n",
       "      <td>4</td>\n",
       "      <td>NaN</td>\n",
       "    </tr>\n",
       "    <tr>\n",
       "      <th>top</th>\n",
       "      <td>NaN</td>\n",
       "      <td>Female</td>\n",
       "      <td>NaN</td>\n",
       "      <td>NaN</td>\n",
       "      <td>NaN</td>\n",
       "      <td>Yes</td>\n",
       "      <td>Private</td>\n",
       "      <td>Urban</td>\n",
       "      <td>NaN</td>\n",
       "      <td>NaN</td>\n",
       "      <td>never smoked</td>\n",
       "      <td>NaN</td>\n",
       "    </tr>\n",
       "    <tr>\n",
       "      <th>freq</th>\n",
       "      <td>NaN</td>\n",
       "      <td>2994</td>\n",
       "      <td>NaN</td>\n",
       "      <td>NaN</td>\n",
       "      <td>NaN</td>\n",
       "      <td>3353</td>\n",
       "      <td>2925</td>\n",
       "      <td>2596</td>\n",
       "      <td>NaN</td>\n",
       "      <td>NaN</td>\n",
       "      <td>1892</td>\n",
       "      <td>NaN</td>\n",
       "    </tr>\n",
       "    <tr>\n",
       "      <th>mean</th>\n",
       "      <td>36517.829354</td>\n",
       "      <td>NaN</td>\n",
       "      <td>43.226614</td>\n",
       "      <td>0.097456</td>\n",
       "      <td>0.054012</td>\n",
       "      <td>NaN</td>\n",
       "      <td>NaN</td>\n",
       "      <td>NaN</td>\n",
       "      <td>106.147677</td>\n",
       "      <td>28.893237</td>\n",
       "      <td>NaN</td>\n",
       "      <td>0.048728</td>\n",
       "    </tr>\n",
       "    <tr>\n",
       "      <th>std</th>\n",
       "      <td>21161.721625</td>\n",
       "      <td>NaN</td>\n",
       "      <td>22.612647</td>\n",
       "      <td>0.296607</td>\n",
       "      <td>0.226063</td>\n",
       "      <td>NaN</td>\n",
       "      <td>NaN</td>\n",
       "      <td>NaN</td>\n",
       "      <td>45.283560</td>\n",
       "      <td>7.854067</td>\n",
       "      <td>NaN</td>\n",
       "      <td>0.215320</td>\n",
       "    </tr>\n",
       "    <tr>\n",
       "      <th>min</th>\n",
       "      <td>67.000000</td>\n",
       "      <td>NaN</td>\n",
       "      <td>0.080000</td>\n",
       "      <td>0.000000</td>\n",
       "      <td>0.000000</td>\n",
       "      <td>NaN</td>\n",
       "      <td>NaN</td>\n",
       "      <td>NaN</td>\n",
       "      <td>55.120000</td>\n",
       "      <td>10.300000</td>\n",
       "      <td>NaN</td>\n",
       "      <td>0.000000</td>\n",
       "    </tr>\n",
       "    <tr>\n",
       "      <th>25%</th>\n",
       "      <td>17741.250000</td>\n",
       "      <td>NaN</td>\n",
       "      <td>25.000000</td>\n",
       "      <td>0.000000</td>\n",
       "      <td>0.000000</td>\n",
       "      <td>NaN</td>\n",
       "      <td>NaN</td>\n",
       "      <td>NaN</td>\n",
       "      <td>77.245000</td>\n",
       "      <td>23.500000</td>\n",
       "      <td>NaN</td>\n",
       "      <td>0.000000</td>\n",
       "    </tr>\n",
       "    <tr>\n",
       "      <th>50%</th>\n",
       "      <td>36932.000000</td>\n",
       "      <td>NaN</td>\n",
       "      <td>45.000000</td>\n",
       "      <td>0.000000</td>\n",
       "      <td>0.000000</td>\n",
       "      <td>NaN</td>\n",
       "      <td>NaN</td>\n",
       "      <td>NaN</td>\n",
       "      <td>91.885000</td>\n",
       "      <td>28.100000</td>\n",
       "      <td>NaN</td>\n",
       "      <td>0.000000</td>\n",
       "    </tr>\n",
       "    <tr>\n",
       "      <th>75%</th>\n",
       "      <td>54682.000000</td>\n",
       "      <td>NaN</td>\n",
       "      <td>61.000000</td>\n",
       "      <td>0.000000</td>\n",
       "      <td>0.000000</td>\n",
       "      <td>NaN</td>\n",
       "      <td>NaN</td>\n",
       "      <td>NaN</td>\n",
       "      <td>114.090000</td>\n",
       "      <td>33.100000</td>\n",
       "      <td>NaN</td>\n",
       "      <td>0.000000</td>\n",
       "    </tr>\n",
       "    <tr>\n",
       "      <th>max</th>\n",
       "      <td>72940.000000</td>\n",
       "      <td>NaN</td>\n",
       "      <td>82.000000</td>\n",
       "      <td>1.000000</td>\n",
       "      <td>1.000000</td>\n",
       "      <td>NaN</td>\n",
       "      <td>NaN</td>\n",
       "      <td>NaN</td>\n",
       "      <td>271.740000</td>\n",
       "      <td>97.600000</td>\n",
       "      <td>NaN</td>\n",
       "      <td>1.000000</td>\n",
       "    </tr>\n",
       "  </tbody>\n",
       "</table>\n",
       "</div>"
      ],
      "text/plain": [
       "                  id  gender          age  hypertension  heart_disease  \\\n",
       "count    5110.000000    5110  5110.000000   5110.000000    5110.000000   \n",
       "unique           NaN       3          NaN           NaN            NaN   \n",
       "top              NaN  Female          NaN           NaN            NaN   \n",
       "freq             NaN    2994          NaN           NaN            NaN   \n",
       "mean    36517.829354     NaN    43.226614      0.097456       0.054012   \n",
       "std     21161.721625     NaN    22.612647      0.296607       0.226063   \n",
       "min        67.000000     NaN     0.080000      0.000000       0.000000   \n",
       "25%     17741.250000     NaN    25.000000      0.000000       0.000000   \n",
       "50%     36932.000000     NaN    45.000000      0.000000       0.000000   \n",
       "75%     54682.000000     NaN    61.000000      0.000000       0.000000   \n",
       "max     72940.000000     NaN    82.000000      1.000000       1.000000   \n",
       "\n",
       "       ever_married work_type Residence_type  avg_glucose_level          bmi  \\\n",
       "count          5110      5110           5110        5110.000000  4909.000000   \n",
       "unique            2         5              2                NaN          NaN   \n",
       "top             Yes   Private          Urban                NaN          NaN   \n",
       "freq           3353      2925           2596                NaN          NaN   \n",
       "mean            NaN       NaN            NaN         106.147677    28.893237   \n",
       "std             NaN       NaN            NaN          45.283560     7.854067   \n",
       "min             NaN       NaN            NaN          55.120000    10.300000   \n",
       "25%             NaN       NaN            NaN          77.245000    23.500000   \n",
       "50%             NaN       NaN            NaN          91.885000    28.100000   \n",
       "75%             NaN       NaN            NaN         114.090000    33.100000   \n",
       "max             NaN       NaN            NaN         271.740000    97.600000   \n",
       "\n",
       "       smoking_status       stroke  \n",
       "count            5110  5110.000000  \n",
       "unique              4          NaN  \n",
       "top      never smoked          NaN  \n",
       "freq             1892          NaN  \n",
       "mean              NaN     0.048728  \n",
       "std               NaN     0.215320  \n",
       "min               NaN     0.000000  \n",
       "25%               NaN     0.000000  \n",
       "50%               NaN     0.000000  \n",
       "75%               NaN     0.000000  \n",
       "max               NaN     1.000000  "
      ]
     },
     "execution_count": 9,
     "metadata": {},
     "output_type": "execute_result"
    }
   ],
   "source": [
    "print('Get an idea what in the dataset.')\n",
    "data.describe(include=\"all\")"
   ]
  },
  {
   "cell_type": "code",
   "execution_count": 10,
   "metadata": {},
   "outputs": [
    {
     "name": "stdout",
     "output_type": "stream",
     "text": [
      "Number of unique values in each column\n"
     ]
    },
    {
     "data": {
      "text/plain": [
       "id                   5110\n",
       "gender                  3\n",
       "age                   104\n",
       "hypertension            2\n",
       "heart_disease           2\n",
       "ever_married            2\n",
       "work_type               5\n",
       "Residence_type          2\n",
       "avg_glucose_level    3979\n",
       "bmi                   418\n",
       "smoking_status          4\n",
       "stroke                  2\n",
       "dtype: int64"
      ]
     },
     "execution_count": 10,
     "metadata": {},
     "output_type": "execute_result"
    }
   ],
   "source": [
    "print('Number of unique values in each column')\n",
    "data.nunique()"
   ]
  },
  {
   "cell_type": "code",
   "execution_count": 11,
   "metadata": {},
   "outputs": [
    {
     "name": "stdout",
     "output_type": "stream",
     "text": [
      "View and count values in columns with string entries\n",
      "gender: ['Female' 'Male' 'Other'] -> 3\n",
      "ever_married: ['No' 'Yes'] -> 2\n",
      "work_type: ['Govt_job' 'Never_worked' 'Private' 'Self-employed' 'children'] -> 5\n",
      "Residence_type: ['Rural' 'Urban'] -> 2\n",
      "smoking_status: ['Unknown' 'formerly smoked' 'never smoked' 'smokes'] -> 4\n"
     ]
    }
   ],
   "source": [
    "print('View and count values in columns with string entries')\n",
    "\n",
    "for col in 'gender', 'ever_married', 'work_type', 'Residence_type', 'smoking_status':\n",
    "    print(f'{col}: {np.unique(data[col])} -> {np.unique(data[col]).size}')"
   ]
  },
  {
   "cell_type": "markdown",
   "metadata": {},
   "source": [
    "### Data split"
   ]
  },
  {
   "cell_type": "code",
   "execution_count": 12,
   "metadata": {},
   "outputs": [
    {
     "data": {
      "text/plain": [
       "1"
      ]
     },
     "execution_count": 12,
     "metadata": {},
     "output_type": "execute_result"
    }
   ],
   "source": [
    "data['gender'][data['gender'] == 'Other'].count()"
   ]
  },
  {
   "cell_type": "markdown",
   "metadata": {},
   "source": [
    "**Conclusion**:\n",
    "- row with 'Other' gender is just 1, so we will drop that row later.\n",
    "- because it is just one this sample will not have a significant impact to our further processing.\n"
   ]
  },
  {
   "cell_type": "code",
   "execution_count": 13,
   "metadata": {},
   "outputs": [
    {
     "data": {
      "text/plain": [
       "id                     0\n",
       "gender                 0\n",
       "age                    0\n",
       "hypertension           0\n",
       "heart_disease          0\n",
       "ever_married           0\n",
       "work_type              0\n",
       "Residence_type         0\n",
       "avg_glucose_level      0\n",
       "bmi                  201\n",
       "smoking_status         0\n",
       "stroke                 0\n",
       "dtype: int64"
      ]
     },
     "execution_count": 13,
     "metadata": {},
     "output_type": "execute_result"
    }
   ],
   "source": [
    "data.isna().sum()"
   ]
  },
  {
   "cell_type": "markdown",
   "metadata": {},
   "source": [
    "Only bmi has missing values\n"
   ]
  },
  {
   "cell_type": "markdown",
   "metadata": {},
   "source": [
    "### Prepare Splitting"
   ]
  },
  {
   "cell_type": "code",
   "execution_count": 14,
   "metadata": {},
   "outputs": [],
   "source": [
    "# drop a row with value 'Other' in the column 'gender' \n",
    "data = data[data['gender'] != 'Other']\n",
    "\n",
    "# Drop ID column as it does not carry any useful information just noise\n",
    "data = data.drop('id', axis=1)"
   ]
  },
  {
   "cell_type": "markdown",
   "metadata": {},
   "source": []
  },
  {
   "cell_type": "code",
   "execution_count": 15,
   "metadata": {},
   "outputs": [
    {
     "name": "stdout",
     "output_type": "stream",
     "text": [
      "Total number of \"Unknown\": 1544\n",
      "Children with 'Unknown' smoking_status: 618\n"
     ]
    }
   ],
   "source": [
    "print(f'Total number of \"Unknown\": {data[data[\"smoking_status\"] == \"Unknown\"].shape[0]}')\n",
    "\n",
    "print(f\"Children with 'Unknown' smoking_status: {data[(data['work_type'] == 'children') &  (data['smoking_status'] == 'Unknown')].shape[0]}\")\n",
    "\n",
    "# in total Unknown = 1544\n",
    "# children = 687 \n",
    "# out of 687 children 618 has \"Unknown\" smoking_status\n",
    "# out of 687 children 2 with stroke\n",
    "# for 618 children that has \"Unknown\" in smoking_status value is replaced with \"never smoked\"\n",
    "# Remaining \"Unknown\" that not children 926, which for the time being we remove! "
   ]
  },
  {
   "cell_type": "code",
   "execution_count": 16,
   "metadata": {},
   "outputs": [
    {
     "data": {
      "text/plain": [
       "(1544, 11)"
      ]
     },
     "execution_count": 16,
     "metadata": {},
     "output_type": "execute_result"
    }
   ],
   "source": [
    "# Number of\n",
    "data[data['smoking_status'] == 'Unknown'].shape #TODO: Rerun code so that the row number is right again"
   ]
  },
  {
   "cell_type": "code",
   "execution_count": 17,
   "metadata": {},
   "outputs": [],
   "source": [
    "# Check how many 'Unknown'\n",
    "# in total Unknown = 1544\n",
    "\n",
    "# Workflow\n",
    "# First change \"Unknown\" values where \"work_type\" = \"children\"\n",
    "# Then remove rows with \"Unknown\"\n",
    "\n",
    "# children = 687 \n",
    "# out of 687 children 618 has \"Unknown\" smoking_status\n",
    "# out of 687 children 2 with stroke\n",
    "# for 618 children that has \"Unknown\" in smoking_status value is replaced with \"never smoked\"\n",
    "# Remaining \"Unknown\" that not children 926, which for the time being we remove!\n",
    "\n",
    "# Remove 926 values with \"Unknown\" where \"work_type\" is not \"children\"\n",
    "# out of which 45 were with stroke\n",
    "data = data.drop(data[(data['work_type'] != 'children') &  (data['smoking_status'] == 'Unknown')].index) \n",
    "\n",
    "\n",
    "# TODO: replace \"Unknown\" to \"never smoked\"\n",
    "data = data.replace('Unknown', 'never smoked')"
   ]
  },
  {
   "cell_type": "code",
   "execution_count": 18,
   "metadata": {},
   "outputs": [
    {
     "data": {
      "text/html": [
       "<div>\n",
       "<style scoped>\n",
       "    .dataframe tbody tr th:only-of-type {\n",
       "        vertical-align: middle;\n",
       "    }\n",
       "\n",
       "    .dataframe tbody tr th {\n",
       "        vertical-align: top;\n",
       "    }\n",
       "\n",
       "    .dataframe thead th {\n",
       "        text-align: right;\n",
       "    }\n",
       "</style>\n",
       "<table border=\"1\" class=\"dataframe\">\n",
       "  <thead>\n",
       "    <tr style=\"text-align: right;\">\n",
       "      <th></th>\n",
       "      <th>gender</th>\n",
       "      <th>age</th>\n",
       "      <th>hypertension</th>\n",
       "      <th>heart_disease</th>\n",
       "      <th>ever_married</th>\n",
       "      <th>work_type</th>\n",
       "      <th>Residence_type</th>\n",
       "      <th>avg_glucose_level</th>\n",
       "      <th>bmi</th>\n",
       "      <th>smoking_status</th>\n",
       "      <th>stroke</th>\n",
       "    </tr>\n",
       "  </thead>\n",
       "  <tbody>\n",
       "  </tbody>\n",
       "</table>\n",
       "</div>"
      ],
      "text/plain": [
       "Empty DataFrame\n",
       "Columns: [gender, age, hypertension, heart_disease, ever_married, work_type, Residence_type, avg_glucose_level, bmi, smoking_status, stroke]\n",
       "Index: []"
      ]
     },
     "execution_count": 18,
     "metadata": {},
     "output_type": "execute_result"
    }
   ],
   "source": [
    "data[data['smoking_status'] == 'Unknown']"
   ]
  },
  {
   "cell_type": "code",
   "execution_count": 19,
   "metadata": {},
   "outputs": [
    {
     "data": {
      "text/html": [
       "<div>\n",
       "<style scoped>\n",
       "    .dataframe tbody tr th:only-of-type {\n",
       "        vertical-align: middle;\n",
       "    }\n",
       "\n",
       "    .dataframe tbody tr th {\n",
       "        vertical-align: top;\n",
       "    }\n",
       "\n",
       "    .dataframe thead th {\n",
       "        text-align: right;\n",
       "    }\n",
       "</style>\n",
       "<table border=\"1\" class=\"dataframe\">\n",
       "  <thead>\n",
       "    <tr style=\"text-align: right;\">\n",
       "      <th></th>\n",
       "      <th>gender</th>\n",
       "      <th>age</th>\n",
       "      <th>hypertension</th>\n",
       "      <th>heart_disease</th>\n",
       "      <th>ever_married</th>\n",
       "      <th>work_type</th>\n",
       "      <th>Residence_type</th>\n",
       "      <th>avg_glucose_level</th>\n",
       "      <th>bmi</th>\n",
       "      <th>smoking_status</th>\n",
       "      <th>stroke</th>\n",
       "    </tr>\n",
       "  </thead>\n",
       "  <tbody>\n",
       "    <tr>\n",
       "      <th>0</th>\n",
       "      <td>Male</td>\n",
       "      <td>67.0</td>\n",
       "      <td>0</td>\n",
       "      <td>1</td>\n",
       "      <td>Yes</td>\n",
       "      <td>Private</td>\n",
       "      <td>Urban</td>\n",
       "      <td>228.69</td>\n",
       "      <td>36.6</td>\n",
       "      <td>formerly smoked</td>\n",
       "      <td>1</td>\n",
       "    </tr>\n",
       "    <tr>\n",
       "      <th>1</th>\n",
       "      <td>Female</td>\n",
       "      <td>61.0</td>\n",
       "      <td>0</td>\n",
       "      <td>0</td>\n",
       "      <td>Yes</td>\n",
       "      <td>Self-employed</td>\n",
       "      <td>Rural</td>\n",
       "      <td>202.21</td>\n",
       "      <td>NaN</td>\n",
       "      <td>never smoked</td>\n",
       "      <td>1</td>\n",
       "    </tr>\n",
       "    <tr>\n",
       "      <th>2</th>\n",
       "      <td>Male</td>\n",
       "      <td>80.0</td>\n",
       "      <td>0</td>\n",
       "      <td>1</td>\n",
       "      <td>Yes</td>\n",
       "      <td>Private</td>\n",
       "      <td>Rural</td>\n",
       "      <td>105.92</td>\n",
       "      <td>32.5</td>\n",
       "      <td>never smoked</td>\n",
       "      <td>1</td>\n",
       "    </tr>\n",
       "    <tr>\n",
       "      <th>3</th>\n",
       "      <td>Female</td>\n",
       "      <td>49.0</td>\n",
       "      <td>0</td>\n",
       "      <td>0</td>\n",
       "      <td>Yes</td>\n",
       "      <td>Private</td>\n",
       "      <td>Urban</td>\n",
       "      <td>171.23</td>\n",
       "      <td>34.4</td>\n",
       "      <td>smokes</td>\n",
       "      <td>1</td>\n",
       "    </tr>\n",
       "    <tr>\n",
       "      <th>4</th>\n",
       "      <td>Female</td>\n",
       "      <td>79.0</td>\n",
       "      <td>1</td>\n",
       "      <td>0</td>\n",
       "      <td>Yes</td>\n",
       "      <td>Self-employed</td>\n",
       "      <td>Rural</td>\n",
       "      <td>174.12</td>\n",
       "      <td>24.0</td>\n",
       "      <td>never smoked</td>\n",
       "      <td>1</td>\n",
       "    </tr>\n",
       "  </tbody>\n",
       "</table>\n",
       "</div>"
      ],
      "text/plain": [
       "   gender   age  hypertension  heart_disease ever_married      work_type  \\\n",
       "0    Male  67.0             0              1          Yes        Private   \n",
       "1  Female  61.0             0              0          Yes  Self-employed   \n",
       "2    Male  80.0             0              1          Yes        Private   \n",
       "3  Female  49.0             0              0          Yes        Private   \n",
       "4  Female  79.0             1              0          Yes  Self-employed   \n",
       "\n",
       "  Residence_type  avg_glucose_level   bmi   smoking_status  stroke  \n",
       "0          Urban             228.69  36.6  formerly smoked       1  \n",
       "1          Rural             202.21   NaN     never smoked       1  \n",
       "2          Rural             105.92  32.5     never smoked       1  \n",
       "3          Urban             171.23  34.4           smokes       1  \n",
       "4          Rural             174.12  24.0     never smoked       1  "
      ]
     },
     "execution_count": 19,
     "metadata": {},
     "output_type": "execute_result"
    }
   ],
   "source": [
    "data.head()"
   ]
  },
  {
   "cell_type": "markdown",
   "metadata": {},
   "source": [
    "Check if there are duplicated rows in the dataset"
   ]
  },
  {
   "cell_type": "code",
   "execution_count": 20,
   "metadata": {},
   "outputs": [
    {
     "name": "stdout",
     "output_type": "stream",
     "text": [
      "Remove the id, then check for duplicated, just to check if some one messed up the ids. Is duplicates empty: True\n"
     ]
    }
   ],
   "source": [
    "duplicated = data[data.duplicated()]\n",
    "duplicated.empty\n",
    "print('Remove the id, then check for duplicated, just to check if some one messed up the ids. Is duplicates empty:', duplicated.empty)"
   ]
  },
  {
   "cell_type": "markdown",
   "metadata": {},
   "source": [
    "### Splitting Train and Test Data"
   ]
  },
  {
   "cell_type": "code",
   "execution_count": 21,
   "metadata": {},
   "outputs": [
    {
     "name": "stdout",
     "output_type": "stream",
     "text": [
      "Features: ['gender', 'age', 'hypertension', 'heart_disease', 'ever_married', 'work_type', 'Residence_type', 'avg_glucose_level', 'bmi', 'smoking_status']\n",
      "Target: stroke\n"
     ]
    }
   ],
   "source": [
    "# Columns of feature and target:\n",
    "features = data.columns[:-1] \n",
    "target = data.columns[-1] # 'stroke'\n",
    "\n",
    "print(f\"Features: {list(features)}\")\n",
    "print(f\"Target: {target}\")"
   ]
  },
  {
   "cell_type": "markdown",
   "metadata": {},
   "source": [
    "#### Function for playing with data splitting"
   ]
  },
  {
   "cell_type": "code",
   "execution_count": 22,
   "metadata": {},
   "outputs": [],
   "source": [
    "from sklearn.model_selection import train_test_split\n",
    "\n",
    "# Split data into train and test data,\n",
    "# excluding the id column and use the last column 'stroke' as the target\n",
    "#TODO: Maybe use another test_size e.g. 20%\n",
    "\n",
    "\n",
    "def split_data(test_size=.1, rand_state = 42):\n",
    "    \"\"\"Split with a given `test_size` and `random state`\"\"\"\n",
    "    X_train, X_test, y_train, y_test = train_test_split(data[features], data[target], test_size=test_size, random_state=rand_state)\n",
    "    return X_train, X_test, y_train, y_test"
   ]
  },
  {
   "cell_type": "code",
   "execution_count": 23,
   "metadata": {},
   "outputs": [],
   "source": [
    "X_train, X_test, y_train, y_test = split_data()"
   ]
  },
  {
   "cell_type": "markdown",
   "metadata": {},
   "source": [
    "### Values in Columns:"
   ]
  },
  {
   "cell_type": "markdown",
   "metadata": {},
   "source": [
    "### Working with MISSING values "
   ]
  },
  {
   "cell_type": "markdown",
   "metadata": {},
   "source": [
    "1. Find the NaN\n",
    "\n",
    "2. look in every colums which items in.\n",
    "    In smoke column, unknown\n",
    "    In gender column, unknown.\n",
    "\n",
    "3. in gender only 1 row with Other. so drop it.\n",
    "4. task \n"
   ]
  },
  {
   "cell_type": "markdown",
   "metadata": {},
   "source": [
    "#### Find the NaN"
   ]
  },
  {
   "cell_type": "code",
   "execution_count": 24,
   "metadata": {},
   "outputs": [
    {
     "name": "stdout",
     "output_type": "stream",
     "text": [
      "--------NaN in Xtrain---------\n",
      "gender                 0\n",
      "age                    0\n",
      "hypertension           0\n",
      "heart_disease          0\n",
      "ever_married           0\n",
      "work_type              0\n",
      "Residence_type         0\n",
      "avg_glucose_level      0\n",
      "bmi                  138\n",
      "smoking_status         0\n",
      "dtype: int64\n",
      "\n",
      "\n",
      "---------NaN in Xtest---------\n",
      "gender                0\n",
      "age                   0\n",
      "hypertension          0\n",
      "heart_disease         0\n",
      "ever_married          0\n",
      "work_type             0\n",
      "Residence_type        0\n",
      "avg_glucose_level     0\n",
      "bmi                  17\n",
      "smoking_status        0\n",
      "dtype: int64\n"
     ]
    }
   ],
   "source": [
    "print('NaN in Xtrain'.center(30, '-'), X_train.isna().sum(), sep='\\n')\n",
    "print(\"\\n\")\n",
    "print(\"NaN in Xtest\".center(30, '-'), X_test.isna().sum(), sep='\\n')"
   ]
  },
  {
   "cell_type": "markdown",
   "metadata": {},
   "source": [
    "NaN values are only present in \"bmi\" column. \n",
    "These values are filled by using 3 different strategies:\n",
    "1. np.nanmean() / np.nanmedian()\n",
    "2. SimpleImputer\n",
    "3. IterativeImputer"
   ]
  },
  {
   "cell_type": "markdown",
   "metadata": {},
   "source": [
    "#### NaN values replacement Strategy 1 - Numpy"
   ]
  },
  {
   "cell_type": "code",
   "execution_count": 25,
   "metadata": {},
   "outputs": [
    {
     "name": "stdout",
     "output_type": "stream",
     "text": [
      "NaN values in X_train: 0\n",
      "NaN values in X_test: 0\n"
     ]
    }
   ],
   "source": [
    "X_train_str1 = X_train.fillna(np.nanmean(X_train['bmi']))\n",
    "X_test_str1 = X_test.fillna(np.nanmean(X_test['bmi']))\n",
    "print('NaN values in X_train:', X_train_str1.bmi.isna().sum())\n",
    "print('NaN values in X_test:', X_test_str1.bmi.isna().sum())"
   ]
  },
  {
   "cell_type": "markdown",
   "metadata": {},
   "source": [
    "#### NaN values replacement Strategy 2 & 3 - SimpleImputer & IterativeImputer\n",
    "As the dataset includes columns of different data type, one has to separate columns with numeric values, so that an imputer could be used\n",
    "\n",
    "Also to have the data in the same order one has to manipulate pandas DataFrame"
   ]
  },
  {
   "cell_type": "code",
   "execution_count": 26,
   "metadata": {},
   "outputs": [
    {
     "data": {
      "text/plain": [
       "['age', 'hypertension', 'heart_disease', 'avg_glucose_level', 'bmi']"
      ]
     },
     "execution_count": 26,
     "metadata": {},
     "output_type": "execute_result"
    }
   ],
   "source": [
    "# Filtering columns with numerical values\n",
    "numeric_columns = [col for col in X_train.columns if X_train[col].dtype != object]\n",
    "object_columns = [col for col in X_train.columns if X_train[col].dtype == object]\n",
    "numeric_columns"
   ]
  },
  {
   "cell_type": "code",
   "execution_count": 27,
   "metadata": {},
   "outputs": [
    {
     "name": "stdout",
     "output_type": "stream",
     "text": [
      "NaN values in X_train:\n",
      "gender               0\n",
      "age                  0\n",
      "hypertension         0\n",
      "heart_disease        0\n",
      "ever_married         0\n",
      "work_type            0\n",
      "Residence_type       0\n",
      "avg_glucose_level    0\n",
      "bmi                  0\n",
      "smoking_status       0\n",
      "dtype: int64\n",
      "\n",
      "\n",
      "NaN values in X_test:\n",
      "gender               0\n",
      "age                  0\n",
      "hypertension         0\n",
      "heart_disease        0\n",
      "ever_married         0\n",
      "work_type            0\n",
      "Residence_type       0\n",
      "avg_glucose_level    0\n",
      "bmi                  0\n",
      "smoking_status       0\n",
      "dtype: int64\n"
     ]
    }
   ],
   "source": [
    "# LINK: https://scikit-learn.org/stable/modules/generated/sklearn.impute.IterativeImputer.html#sklearn.impute.IterativeImputer\n",
    "# explicitly require this experimental feature\n",
    "from sklearn.experimental import enable_iterative_imputer\n",
    "from sklearn.impute import SimpleImputer, IterativeImputer\n",
    "\n",
    "# Simple imputer\n",
    "imputer_simple = SimpleImputer(missing_values=np.nan, strategy='mean')\n",
    "# ------------\n",
    "# Train data\n",
    "# ------------\n",
    "str2_train_imputed = imputer_simple.fit_transform(X_train[numeric_columns])\n",
    "df_str2_train_imputed = pd.DataFrame(str2_train_imputed, columns=numeric_columns, index=X_train.index).bmi\n",
    "X_train_str2 = X_train.copy()\n",
    "X_train_str2.bmi = df_str2_train_imputed\n",
    "#X_train_str2\n",
    "print('NaN values in X_train:', X_train_str2.isna().sum(), sep='\\n')\n",
    "# ------------\n",
    "# Test data\n",
    "# ------------\n",
    "str2_test_imputed = imputer_simple.fit_transform(X_test[numeric_columns])\n",
    "df_str2_test_imputed = pd.DataFrame(str2_test_imputed, columns=numeric_columns, index=X_test.index).bmi\n",
    "X_test_str2 = X_test.copy()\n",
    "X_test_str2.bmi = df_str2_test_imputed\n",
    "#X_train_str2\n",
    "print('\\n')\n",
    "print('NaN values in X_test:', X_test_str2.isna().sum(), sep='\\n')"
   ]
  },
  {
   "cell_type": "code",
   "execution_count": 28,
   "metadata": {},
   "outputs": [
    {
     "name": "stdout",
     "output_type": "stream",
     "text": [
      "NaN values in X_train:\n",
      "gender               0\n",
      "age                  0\n",
      "hypertension         0\n",
      "heart_disease        0\n",
      "ever_married         0\n",
      "work_type            0\n",
      "Residence_type       0\n",
      "avg_glucose_level    0\n",
      "bmi                  0\n",
      "smoking_status       0\n",
      "dtype: int64\n"
     ]
    },
    {
     "name": "stdout",
     "output_type": "stream",
     "text": [
      "\n",
      "\n",
      "NaN values in X_test:\n",
      "gender               0\n",
      "age                  0\n",
      "hypertension         0\n",
      "heart_disease        0\n",
      "ever_married         0\n",
      "work_type            0\n",
      "Residence_type       0\n",
      "avg_glucose_level    0\n",
      "bmi                  0\n",
      "smoking_status       0\n",
      "dtype: int64\n"
     ]
    }
   ],
   "source": [
    "# Iterative Imputer\n",
    "imputer_iter = IterativeImputer(missing_values=np.nan, random_state=42)\n",
    "# ------------\n",
    "# Train data\n",
    "# ------------\n",
    "str3_train_imputed = imputer_iter.fit_transform(X_train[numeric_columns])\n",
    "df_str3_train_imputed = pd.DataFrame(str3_train_imputed, columns=numeric_columns, index=X_train.index).bmi\n",
    "X_train_str3 = X_train.copy()\n",
    "X_train_str3.bmi = df_str3_train_imputed\n",
    "print('NaN values in X_train:', X_train_str3.isna().sum(), sep='\\n')\n",
    "# ------------\n",
    "# Test data\n",
    "# ------------\n",
    "str3_test_imputed = imputer_iter.fit_transform(X_test[numeric_columns])\n",
    "df_str3_test_imputed = pd.DataFrame(str3_test_imputed, columns=numeric_columns, index=X_test.index).bmi\n",
    "X_test_str3 = X_test.copy()\n",
    "X_test_str3.bmi = df_str3_test_imputed\n",
    "print('\\n')\n",
    "print('NaN values in X_test:', X_test_str3.isna().sum(), sep='\\n')"
   ]
  },
  {
   "cell_type": "code",
   "execution_count": 29,
   "metadata": {},
   "outputs": [
    {
     "data": {
      "text/plain": [
       "['gender', 'ever_married', 'work_type', 'Residence_type', 'smoking_status']"
      ]
     },
     "execution_count": 29,
     "metadata": {},
     "output_type": "execute_result"
    }
   ],
   "source": [
    "object_columns"
   ]
  },
  {
   "cell_type": "code",
   "execution_count": 30,
   "metadata": {},
   "outputs": [
    {
     "name": "stdout",
     "output_type": "stream",
     "text": [
      "gender: ['Male' 'Female']\n",
      "ever_married: ['Yes' 'No']\n",
      "work_type: ['Private' 'Self-employed' 'Govt_job' 'children' 'Never_worked']\n",
      "Residence_type: ['Urban' 'Rural']\n",
      "smoking_status: ['formerly smoked' 'never smoked' 'smokes']\n"
     ]
    }
   ],
   "source": [
    "for i in object_columns:\n",
    "    print(f'{i}: {data[i].unique()}')"
   ]
  },
  {
   "cell_type": "markdown",
   "metadata": {},
   "source": [
    "### Object encoding"
   ]
  },
  {
   "cell_type": "markdown",
   "metadata": {},
   "source": [
    "We have 5 columns with \"object\" data type. In the following step, these objects a.k.a strings are converted to the following numerical values.\n",
    "\n",
    "    - gender: Male = 0, Female = 1\n",
    "    - ever_married: No = 0, Yes = 1 \n",
    "    - work_type: \n",
    "    - Redidence_type: Urban = 1, Rural = 0\n",
    "    - smoking_status: 'formerly smoked' = 10, 'never smoked' = 0, 'smokes' = 25\n",
    "\n",
    "For replacing objects with the above numerical values one can follow different strategies such as employing pandas build in `replace` function or using encoders from `sklearn.preprocessing`"
   ]
  },
  {
   "cell_type": "markdown",
   "metadata": {},
   "source": [
    "Short summary of the values: \n",
    " - NaN values were replaced by using `Numpy.mean()` and `pandas.DataFrame.replace()`\n",
    "\n",
    "        `X_train_str1\n",
    "         X_test_str1`\n",
    " - NaN values were replaced by using `SimpleImputer`\n",
    "\n",
    "       `X_train_str2\n",
    "        X_test_str2`\n",
    " - NaN values were replaced by using `IterativeImputer`\n",
    "\n",
    "       `X_train_str3\n",
    "        X_test_str3`"
   ]
  },
  {
   "cell_type": "markdown",
   "metadata": {},
   "source": [
    "#### Option 1 - Using `pandas.DataFrame.replace()`"
   ]
  },
  {
   "cell_type": "code",
   "execution_count": 31,
   "metadata": {},
   "outputs": [],
   "source": [
    "'''\n",
    "# NaN values were replaced by using Numpy.mean() and pandas.DataFrame.replace()\n",
    "    X_train_str1\n",
    "    X_test_str1\n",
    "# NaN values were replaced by using SimpleImputer\n",
    "    X_train_str3\n",
    "    X_test_str3\n",
    "# NaN values were replaced by using IterativeImputer\n",
    "    X_train_str3\n",
    "    X_test_str3\n",
    "'''\n",
    "# gender column: Male & Female to 0 & 1\n",
    "X_train_str1.gender.replace(to_replace=dict(Male=0, Female=1), inplace=True)\n",
    "X_test_str1.gender.replace(to_replace=dict(Male=0, Female=1), inplace=True)\n",
    "# TODO: replace values in the other columns\n"
   ]
  },
  {
   "cell_type": "markdown",
   "metadata": {},
   "source": [
    "#### Option 2 - Using `sklearn.preprocessing`"
   ]
  },
  {
   "cell_type": "code",
   "execution_count": 32,
   "metadata": {},
   "outputs": [],
   "source": [
    "from sklearn.preprocessing import OrdinalEncoder"
   ]
  },
  {
   "cell_type": "code",
   "execution_count": 33,
   "metadata": {},
   "outputs": [
    {
     "data": {
      "text/html": [
       "<div>\n",
       "<style scoped>\n",
       "    .dataframe tbody tr th:only-of-type {\n",
       "        vertical-align: middle;\n",
       "    }\n",
       "\n",
       "    .dataframe tbody tr th {\n",
       "        vertical-align: top;\n",
       "    }\n",
       "\n",
       "    .dataframe thead th {\n",
       "        text-align: right;\n",
       "    }\n",
       "</style>\n",
       "<table border=\"1\" class=\"dataframe\">\n",
       "  <thead>\n",
       "    <tr style=\"text-align: right;\">\n",
       "      <th></th>\n",
       "      <th>gender</th>\n",
       "      <th>age</th>\n",
       "      <th>hypertension</th>\n",
       "      <th>heart_disease</th>\n",
       "      <th>ever_married</th>\n",
       "      <th>work_type</th>\n",
       "      <th>Residence_type</th>\n",
       "      <th>avg_glucose_level</th>\n",
       "      <th>bmi</th>\n",
       "      <th>smoking_status</th>\n",
       "    </tr>\n",
       "  </thead>\n",
       "  <tbody>\n",
       "    <tr>\n",
       "      <th>2816</th>\n",
       "      <td>0.0</td>\n",
       "      <td>50.0</td>\n",
       "      <td>0</td>\n",
       "      <td>0</td>\n",
       "      <td>1.0</td>\n",
       "      <td>3.0</td>\n",
       "      <td>0.0</td>\n",
       "      <td>67.02</td>\n",
       "      <td>28.727275</td>\n",
       "      <td>1.0</td>\n",
       "    </tr>\n",
       "    <tr>\n",
       "      <th>190</th>\n",
       "      <td>1.0</td>\n",
       "      <td>65.0</td>\n",
       "      <td>0</td>\n",
       "      <td>0</td>\n",
       "      <td>1.0</td>\n",
       "      <td>3.0</td>\n",
       "      <td>0.0</td>\n",
       "      <td>205.77</td>\n",
       "      <td>46.000000</td>\n",
       "      <td>1.0</td>\n",
       "    </tr>\n",
       "    <tr>\n",
       "      <th>1153</th>\n",
       "      <td>0.0</td>\n",
       "      <td>45.0</td>\n",
       "      <td>0</td>\n",
       "      <td>0</td>\n",
       "      <td>1.0</td>\n",
       "      <td>2.0</td>\n",
       "      <td>1.0</td>\n",
       "      <td>86.99</td>\n",
       "      <td>37.900000</td>\n",
       "      <td>0.0</td>\n",
       "    </tr>\n",
       "    <tr>\n",
       "      <th>4789</th>\n",
       "      <td>1.0</td>\n",
       "      <td>39.0</td>\n",
       "      <td>0</td>\n",
       "      <td>0</td>\n",
       "      <td>1.0</td>\n",
       "      <td>3.0</td>\n",
       "      <td>1.0</td>\n",
       "      <td>89.32</td>\n",
       "      <td>31.000000</td>\n",
       "      <td>1.0</td>\n",
       "    </tr>\n",
       "    <tr>\n",
       "      <th>842</th>\n",
       "      <td>1.0</td>\n",
       "      <td>23.0</td>\n",
       "      <td>0</td>\n",
       "      <td>0</td>\n",
       "      <td>0.0</td>\n",
       "      <td>3.0</td>\n",
       "      <td>1.0</td>\n",
       "      <td>79.13</td>\n",
       "      <td>32.900000</td>\n",
       "      <td>1.0</td>\n",
       "    </tr>\n",
       "    <tr>\n",
       "      <th>...</th>\n",
       "      <td>...</td>\n",
       "      <td>...</td>\n",
       "      <td>...</td>\n",
       "      <td>...</td>\n",
       "      <td>...</td>\n",
       "      <td>...</td>\n",
       "      <td>...</td>\n",
       "      <td>...</td>\n",
       "      <td>...</td>\n",
       "      <td>...</td>\n",
       "    </tr>\n",
       "    <tr>\n",
       "      <th>4219</th>\n",
       "      <td>1.0</td>\n",
       "      <td>55.0</td>\n",
       "      <td>0</td>\n",
       "      <td>0</td>\n",
       "      <td>1.0</td>\n",
       "      <td>2.0</td>\n",
       "      <td>0.0</td>\n",
       "      <td>71.79</td>\n",
       "      <td>43.000000</td>\n",
       "      <td>1.0</td>\n",
       "    </tr>\n",
       "    <tr>\n",
       "      <th>576</th>\n",
       "      <td>0.0</td>\n",
       "      <td>29.0</td>\n",
       "      <td>0</td>\n",
       "      <td>0</td>\n",
       "      <td>0.0</td>\n",
       "      <td>3.0</td>\n",
       "      <td>0.0</td>\n",
       "      <td>207.58</td>\n",
       "      <td>22.800000</td>\n",
       "      <td>2.0</td>\n",
       "    </tr>\n",
       "    <tr>\n",
       "      <th>3786</th>\n",
       "      <td>1.0</td>\n",
       "      <td>1.8</td>\n",
       "      <td>0</td>\n",
       "      <td>0</td>\n",
       "      <td>0.0</td>\n",
       "      <td>0.0</td>\n",
       "      <td>1.0</td>\n",
       "      <td>95.28</td>\n",
       "      <td>16.500000</td>\n",
       "      <td>0.0</td>\n",
       "    </tr>\n",
       "    <tr>\n",
       "      <th>4617</th>\n",
       "      <td>0.0</td>\n",
       "      <td>57.0</td>\n",
       "      <td>0</td>\n",
       "      <td>0</td>\n",
       "      <td>1.0</td>\n",
       "      <td>2.0</td>\n",
       "      <td>0.0</td>\n",
       "      <td>75.53</td>\n",
       "      <td>33.100000</td>\n",
       "      <td>1.0</td>\n",
       "    </tr>\n",
       "    <tr>\n",
       "      <th>1041</th>\n",
       "      <td>1.0</td>\n",
       "      <td>30.0</td>\n",
       "      <td>0</td>\n",
       "      <td>0</td>\n",
       "      <td>1.0</td>\n",
       "      <td>2.0</td>\n",
       "      <td>1.0</td>\n",
       "      <td>110.55</td>\n",
       "      <td>30.900000</td>\n",
       "      <td>2.0</td>\n",
       "    </tr>\n",
       "  </tbody>\n",
       "</table>\n",
       "<p>3764 rows × 10 columns</p>\n",
       "</div>"
      ],
      "text/plain": [
       "      gender   age  hypertension  heart_disease  ever_married  work_type  \\\n",
       "2816     0.0  50.0             0              0           1.0        3.0   \n",
       "190      1.0  65.0             0              0           1.0        3.0   \n",
       "1153     0.0  45.0             0              0           1.0        2.0   \n",
       "4789     1.0  39.0             0              0           1.0        3.0   \n",
       "842      1.0  23.0             0              0           0.0        3.0   \n",
       "...      ...   ...           ...            ...           ...        ...   \n",
       "4219     1.0  55.0             0              0           1.0        2.0   \n",
       "576      0.0  29.0             0              0           0.0        3.0   \n",
       "3786     1.0   1.8             0              0           0.0        0.0   \n",
       "4617     0.0  57.0             0              0           1.0        2.0   \n",
       "1041     1.0  30.0             0              0           1.0        2.0   \n",
       "\n",
       "      Residence_type  avg_glucose_level        bmi  smoking_status  \n",
       "2816             0.0              67.02  28.727275             1.0  \n",
       "190              0.0             205.77  46.000000             1.0  \n",
       "1153             1.0              86.99  37.900000             0.0  \n",
       "4789             1.0              89.32  31.000000             1.0  \n",
       "842              1.0              79.13  32.900000             1.0  \n",
       "...              ...                ...        ...             ...  \n",
       "4219             0.0              71.79  43.000000             1.0  \n",
       "576              0.0             207.58  22.800000             2.0  \n",
       "3786             1.0              95.28  16.500000             0.0  \n",
       "4617             0.0              75.53  33.100000             1.0  \n",
       "1041             1.0             110.55  30.900000             2.0  \n",
       "\n",
       "[3764 rows x 10 columns]"
      ]
     },
     "execution_count": 33,
     "metadata": {},
     "output_type": "execute_result"
    }
   ],
   "source": [
    "# TODO: Missing 'work_type' encoding - there are 5 categories \n",
    "# The order in the list affects the values given to the object\n",
    "encoding_dict = {\n",
    "    'gender': ['Male', 'Female'],\n",
    "    'ever_married': ['No', 'Yes'],\n",
    "    'Residence_type': ['Urban', 'Rural'] ,\n",
    "    'smoking_status': ['never smoked', 'formerly smoked', 'smokes'],\n",
    "    'work_type': ['children', 'Never_worked', 'Govt_job',  'Private', 'Self-employed']\n",
    "}\n",
    "\n",
    "# Dictionary keys\n",
    "key = list(encoding_dict.keys())\n",
    "categories = [encoding_dict[key] for key in list(encoding_dict.keys())]\n",
    "\n",
    "ord_encoder = OrdinalEncoder(categories=categories)\n",
    "X_train_str2_encoded = ord_encoder.fit_transform(X_train_str2[key])\n",
    "X_train_str2[key] = X_train_str2_encoded\n",
    "X_train_str2\n",
    "\n",
    "# ------------\n",
    "# Test data\n",
    "# ------------\n",
    "X_train_str2_encoded = ord_encoder.fit_transform(X_train_str2[key])\n",
    "X_train_str2[key] = X_train_str2_encoded\n",
    "X_train_str2\n",
    "# ------------\n",
    "# Test data\n",
    "# ------------\n",
    "X_test_str2_encoded = ord_encoder.fit_transform(X_test_str2[key])\n",
    "X_test_str2[key] = X_test_str2_encoded\n",
    "X_test_str2\n",
    "#for key in encoding_dict.keys():\n",
    "#    ord_encoder = OrdinalEncoder(categories=encoding_dict[key])\n",
    "#    X_train_str2_encoded = ord_encoder.fit_transform([X_train_str2[key]])\n",
    "#    #X_train_str2[key] = X_train_str2_encoded\n",
    "#    print(key, X_train_str2_encoded)\n",
    "#X_train_str2_encoded\n",
    "#X_train_str2[list(encoding_dict.keys())]\n",
    "\n"
   ]
  },
  {
   "cell_type": "markdown",
   "metadata": {},
   "source": [
    "#### Option 3 - Using `pandas.DataFrame.map` function"
   ]
  },
  {
   "cell_type": "markdown",
   "metadata": {},
   "source": [
    "The easiest to use"
   ]
  },
  {
   "cell_type": "code",
   "execution_count": 34,
   "metadata": {},
   "outputs": [],
   "source": [
    "encoding_dict1 = {\n",
    "    'gender': {'Male': 0, 'Female': 1},\n",
    "    'ever_married': {'No': 0, 'Yes': 1},\n",
    "    'Residence_type': {'Urban': 1, 'Rural': 0},\n",
    "    'smoking_status': {'never smoked': 0, 'formerly smoked': 10, 'smokes': 25}\n",
    "}\n",
    "\n",
    "for col, mapping in encoding_dict1.items():\n",
    "    X_train_str3[col] = X_train_str3[col].map(mapping)"
   ]
  },
  {
   "cell_type": "code",
   "execution_count": 35,
   "metadata": {},
   "outputs": [
    {
     "data": {
      "text/html": [
       "<div>\n",
       "<style scoped>\n",
       "    .dataframe tbody tr th:only-of-type {\n",
       "        vertical-align: middle;\n",
       "    }\n",
       "\n",
       "    .dataframe tbody tr th {\n",
       "        vertical-align: top;\n",
       "    }\n",
       "\n",
       "    .dataframe thead th {\n",
       "        text-align: right;\n",
       "    }\n",
       "</style>\n",
       "<table border=\"1\" class=\"dataframe\">\n",
       "  <thead>\n",
       "    <tr style=\"text-align: right;\">\n",
       "      <th></th>\n",
       "      <th>gender</th>\n",
       "      <th>age</th>\n",
       "      <th>hypertension</th>\n",
       "      <th>heart_disease</th>\n",
       "      <th>ever_married</th>\n",
       "      <th>work_type</th>\n",
       "      <th>Residence_type</th>\n",
       "      <th>avg_glucose_level</th>\n",
       "      <th>bmi</th>\n",
       "      <th>smoking_status</th>\n",
       "    </tr>\n",
       "  </thead>\n",
       "  <tbody>\n",
       "    <tr>\n",
       "      <th>2816</th>\n",
       "      <td>0</td>\n",
       "      <td>50.0</td>\n",
       "      <td>0</td>\n",
       "      <td>0</td>\n",
       "      <td>1</td>\n",
       "      <td>Private</td>\n",
       "      <td>1</td>\n",
       "      <td>67.02</td>\n",
       "      <td>28.787154</td>\n",
       "      <td>10</td>\n",
       "    </tr>\n",
       "    <tr>\n",
       "      <th>190</th>\n",
       "      <td>1</td>\n",
       "      <td>65.0</td>\n",
       "      <td>0</td>\n",
       "      <td>0</td>\n",
       "      <td>1</td>\n",
       "      <td>Private</td>\n",
       "      <td>1</td>\n",
       "      <td>205.77</td>\n",
       "      <td>46.000000</td>\n",
       "      <td>10</td>\n",
       "    </tr>\n",
       "    <tr>\n",
       "      <th>1153</th>\n",
       "      <td>0</td>\n",
       "      <td>45.0</td>\n",
       "      <td>0</td>\n",
       "      <td>0</td>\n",
       "      <td>1</td>\n",
       "      <td>Govt_job</td>\n",
       "      <td>0</td>\n",
       "      <td>86.99</td>\n",
       "      <td>37.900000</td>\n",
       "      <td>0</td>\n",
       "    </tr>\n",
       "    <tr>\n",
       "      <th>4789</th>\n",
       "      <td>1</td>\n",
       "      <td>39.0</td>\n",
       "      <td>0</td>\n",
       "      <td>0</td>\n",
       "      <td>1</td>\n",
       "      <td>Private</td>\n",
       "      <td>0</td>\n",
       "      <td>89.32</td>\n",
       "      <td>31.000000</td>\n",
       "      <td>10</td>\n",
       "    </tr>\n",
       "    <tr>\n",
       "      <th>842</th>\n",
       "      <td>1</td>\n",
       "      <td>23.0</td>\n",
       "      <td>0</td>\n",
       "      <td>0</td>\n",
       "      <td>0</td>\n",
       "      <td>Private</td>\n",
       "      <td>0</td>\n",
       "      <td>79.13</td>\n",
       "      <td>32.900000</td>\n",
       "      <td>10</td>\n",
       "    </tr>\n",
       "    <tr>\n",
       "      <th>...</th>\n",
       "      <td>...</td>\n",
       "      <td>...</td>\n",
       "      <td>...</td>\n",
       "      <td>...</td>\n",
       "      <td>...</td>\n",
       "      <td>...</td>\n",
       "      <td>...</td>\n",
       "      <td>...</td>\n",
       "      <td>...</td>\n",
       "      <td>...</td>\n",
       "    </tr>\n",
       "    <tr>\n",
       "      <th>4219</th>\n",
       "      <td>1</td>\n",
       "      <td>55.0</td>\n",
       "      <td>0</td>\n",
       "      <td>0</td>\n",
       "      <td>1</td>\n",
       "      <td>Govt_job</td>\n",
       "      <td>1</td>\n",
       "      <td>71.79</td>\n",
       "      <td>43.000000</td>\n",
       "      <td>10</td>\n",
       "    </tr>\n",
       "    <tr>\n",
       "      <th>576</th>\n",
       "      <td>0</td>\n",
       "      <td>29.0</td>\n",
       "      <td>0</td>\n",
       "      <td>0</td>\n",
       "      <td>0</td>\n",
       "      <td>Private</td>\n",
       "      <td>1</td>\n",
       "      <td>207.58</td>\n",
       "      <td>22.800000</td>\n",
       "      <td>25</td>\n",
       "    </tr>\n",
       "    <tr>\n",
       "      <th>3786</th>\n",
       "      <td>1</td>\n",
       "      <td>1.8</td>\n",
       "      <td>0</td>\n",
       "      <td>0</td>\n",
       "      <td>0</td>\n",
       "      <td>children</td>\n",
       "      <td>0</td>\n",
       "      <td>95.28</td>\n",
       "      <td>16.500000</td>\n",
       "      <td>0</td>\n",
       "    </tr>\n",
       "    <tr>\n",
       "      <th>4617</th>\n",
       "      <td>0</td>\n",
       "      <td>57.0</td>\n",
       "      <td>0</td>\n",
       "      <td>0</td>\n",
       "      <td>1</td>\n",
       "      <td>Govt_job</td>\n",
       "      <td>1</td>\n",
       "      <td>75.53</td>\n",
       "      <td>33.100000</td>\n",
       "      <td>10</td>\n",
       "    </tr>\n",
       "    <tr>\n",
       "      <th>1041</th>\n",
       "      <td>1</td>\n",
       "      <td>30.0</td>\n",
       "      <td>0</td>\n",
       "      <td>0</td>\n",
       "      <td>1</td>\n",
       "      <td>Govt_job</td>\n",
       "      <td>0</td>\n",
       "      <td>110.55</td>\n",
       "      <td>30.900000</td>\n",
       "      <td>25</td>\n",
       "    </tr>\n",
       "  </tbody>\n",
       "</table>\n",
       "<p>3764 rows × 10 columns</p>\n",
       "</div>"
      ],
      "text/plain": [
       "      gender   age  hypertension  heart_disease  ever_married work_type  \\\n",
       "2816       0  50.0             0              0             1   Private   \n",
       "190        1  65.0             0              0             1   Private   \n",
       "1153       0  45.0             0              0             1  Govt_job   \n",
       "4789       1  39.0             0              0             1   Private   \n",
       "842        1  23.0             0              0             0   Private   \n",
       "...      ...   ...           ...            ...           ...       ...   \n",
       "4219       1  55.0             0              0             1  Govt_job   \n",
       "576        0  29.0             0              0             0   Private   \n",
       "3786       1   1.8             0              0             0  children   \n",
       "4617       0  57.0             0              0             1  Govt_job   \n",
       "1041       1  30.0             0              0             1  Govt_job   \n",
       "\n",
       "      Residence_type  avg_glucose_level        bmi  smoking_status  \n",
       "2816               1              67.02  28.787154              10  \n",
       "190                1             205.77  46.000000              10  \n",
       "1153               0              86.99  37.900000               0  \n",
       "4789               0              89.32  31.000000              10  \n",
       "842                0              79.13  32.900000              10  \n",
       "...              ...                ...        ...             ...  \n",
       "4219               1              71.79  43.000000              10  \n",
       "576                1             207.58  22.800000              25  \n",
       "3786               0              95.28  16.500000               0  \n",
       "4617               1              75.53  33.100000              10  \n",
       "1041               0             110.55  30.900000              25  \n",
       "\n",
       "[3764 rows x 10 columns]"
      ]
     },
     "execution_count": 35,
     "metadata": {},
     "output_type": "execute_result"
    }
   ],
   "source": [
    "X_train_str3"
   ]
  },
  {
   "cell_type": "code",
   "execution_count": 36,
   "metadata": {},
   "outputs": [
    {
     "name": "stdout",
     "output_type": "stream",
     "text": [
      "['Male', 'Female']\n",
      "['No', 'Yes']\n",
      "['Urban', 'Rural']\n",
      "['never smoked', 'formerly smoked', 'smokes']\n",
      "['children', 'Never_worked', 'Govt_job', 'Private', 'Self-employed']\n"
     ]
    }
   ],
   "source": [
    "for key in encoding_dict.keys():\n",
    "    print(encoding_dict[key])"
   ]
  },
  {
   "cell_type": "code",
   "execution_count": 37,
   "metadata": {},
   "outputs": [
    {
     "name": "stdout",
     "output_type": "stream",
     "text": [
      "<class 'pandas.core.frame.DataFrame'>\n",
      "Int64Index: 4183 entries, 0 to 5108\n",
      "Data columns (total 11 columns):\n",
      " #   Column             Non-Null Count  Dtype  \n",
      "---  ------             --------------  -----  \n",
      " 0   gender             4183 non-null   object \n",
      " 1   age                4183 non-null   float64\n",
      " 2   hypertension       4183 non-null   int64  \n",
      " 3   heart_disease      4183 non-null   int64  \n",
      " 4   ever_married       4183 non-null   object \n",
      " 5   work_type          4183 non-null   object \n",
      " 6   Residence_type     4183 non-null   object \n",
      " 7   avg_glucose_level  4183 non-null   float64\n",
      " 8   bmi                4028 non-null   float64\n",
      " 9   smoking_status     4183 non-null   object \n",
      " 10  stroke             4183 non-null   int64  \n",
      "dtypes: float64(3), int64(3), object(5)\n",
      "memory usage: 392.2+ KB\n"
     ]
    }
   ],
   "source": [
    "data.info()"
   ]
  },
  {
   "cell_type": "code",
   "execution_count": 38,
   "metadata": {},
   "outputs": [
    {
     "data": {
      "text/plain": [
       "'\\ngender\\nFemale = 1\\nMale = 0\\n\\never married \\nNo = 0\\nYes = 1\\n\\nResidence_type\\nRural = 0\\nUrban = 1\\n\\nbmi mean # das gewicht sollte normalverteilt sein und da das bmi = gewicht/größe² ist,\\n        # denke ich wir können es einfach als indikator verwenden\\n        # unser datensatz behalndelt bmi ähnlich wie gewicht\\n\\nsmoking_status # educated guess with data from a website (https://www.health.govt.nz/our-work/preventative-health-wellness/tobacco-control/tobacco-control-information-practitioners/definitions-smoking-status)\\n# unknown = 2.5\\nnever smoked = 0\\nformerly smoked = 10\\nsmokes = 25\\n\\n# -0.5   0   0.5\\n\\nwork_type\\nsimple SimpleImputer\\n'"
      ]
     },
     "execution_count": 38,
     "metadata": {},
     "output_type": "execute_result"
    }
   ],
   "source": [
    "# Gedanken zum ecoding\n",
    "\n",
    "\"\"\"\n",
    "gender\n",
    "Female = 1\n",
    "Male = 0\n",
    "\n",
    "ever married \n",
    "No = 0\n",
    "Yes = 1\n",
    "\n",
    "Residence_type\n",
    "Rural = 0\n",
    "Urban = 1\n",
    "\n",
    "bmi mean # das gewicht sollte normalverteilt sein und da das bmi = gewicht/größe² ist,\n",
    "        # denke ich wir können es einfach als indikator verwenden\n",
    "        # unser datensatz behalndelt bmi ähnlich wie gewicht\n",
    "\n",
    "smoking_status # educated guess with data from a website (https://www.health.govt.nz/our-work/preventative-health-wellness/tobacco-control/tobacco-control-information-practitioners/definitions-smoking-status)\n",
    "# unknown = 2.5\n",
    "never smoked = 0\n",
    "formerly smoked = 10\n",
    "smokes = 25\n",
    "\n",
    "# -0.5   0   0.5\n",
    "\n",
    "work_type\n",
    "simple SimpleImputer\n",
    "\"\"\"\n",
    "\n",
    "# id,gender,age,hypertension,heart_disease,ever_married,work_type,Residence_type,avg_glucose_level,bmi,smoking_status,stroke\n",
    "\n",
    "# id = id, we guess that these ids have no special purpose other than indexing, so we remove them\n",
    "# gender = mai (marked as important)\n",
    "# age = mai\n",
    "# hypertension = mai\n",
    "# hypertension (Bluthochdruck) = https://de.wikipedia.org/wiki/Hypertonie , https://www.stiftung-gesundheitswissen.de/wissen/hypertonie/hintergrund\n",
    "# keep in mind, hypertension is only 0 or 1, so no indicator how bad the condition ist\n",
    "# heart_disease = mai\n",
    "# heart_disease (Herzkrankheit) =\n",
    "# again heart_disease is represented only in 0 or 1, we don't know what kind of heart disease it is\n",
    "# avg_glucose_level = mai\n",
    "# avg_glucose_level = avg, indicates it is an average over an unknown timespan max(271,74) with min (55.11) mg/dl\n",
    "# unterzuckert < 70 mg/dl oversuggerd > 16 mg/dl, also the glucose level also depends on what the person eats but I assume therefor we have an avg\n",
    "# do you want to know more: https://www.helios-gesundheit.de/magazin/news/news/blutzuckerwerte-und-ihre-bedeutung/\n",
    "# ever_married = well, well, well, funny but useless imoo, why, because we don't know anything about the number of marrages, if they is still merrid or the overall quality\n",
    "# however I will run several runs with and without this column\n",
    "# work_type = of course it strongly depends but maybe we get an interesting insight\n",
    "# bmi =\n"
   ]
  },
  {
   "cell_type": "code",
   "execution_count": 39,
   "metadata": {},
   "outputs": [
    {
     "data": {
      "text/plain": [
       "<Axes: ylabel='Frequency'>"
      ]
     },
     "execution_count": 39,
     "metadata": {},
     "output_type": "execute_result"
    },
    {
     "data": {
      "image/png": "[encoded data removed]",
      "text/plain": [
       "<Figure size 640x480 with 1 Axes>"
      ]
     },
     "metadata": {},
     "output_type": "display_data"
    }
   ],
   "source": [
    "#data[][1::].plot.hist()\n",
    "data[data.columns[1:-1]].plot.hist()\n"
   ]
  },
  {
   "cell_type": "code",
   "execution_count": 40,
   "metadata": {},
   "outputs": [
    {
     "data": {
      "text/plain": [
       "0.3021526418786693"
      ]
     },
     "execution_count": 40,
     "metadata": {},
     "output_type": "execute_result"
    }
   ],
   "source": [
    "1544/5110"
   ]
  }
 ],
 "metadata": {
  "kernelspec": {
   "display_name": "Python 3 (ipykernel)",
   "language": "python",
   "name": "python3"
  },
  "language_info": {
   "codemirror_mode": {
    "name": "ipython",
    "version": 3
   },
   "file_extension": ".py",
   "mimetype": "text/x-python",
   "name": "python",
   "nbconvert_exporter": "python",
   "pygments_lexer": "ipython3",
   "version": "3.10.9"
  }
 },
 "nbformat": 4,
 "nbformat_minor": 2
}
